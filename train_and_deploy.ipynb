{
 "cells": [
  {
   "attachments": {},
   "cell_type": "markdown",
   "metadata": {},
   "source": [
    "<!-- # TODO: Title -->\n",
    "\n",
    "# Dog breed classification\n",
    "\n",
    "<!-- This notebook lists all the steps that you need to complete the complete this project. You will need to complete all the TODOs in this notebook as well as in the README and the two python scripts included with the starter code. -->\n",
    "\n",
    "<!-- **TODO**: Give a helpful introduction to what this notebook is for. Remember that comments, explanations and good documentation make your project informative and professional. -->\n",
    "\n",
    "In this notebook:\n",
    "\n",
    "1. The dataset of dog breeds is collected and uploaded to an S3 bucket.\n",
    "1. A pre-trained model is fine-tuned on the dataset, on AWS SageMaker\n",
    "1. First the model undergoes hyperparameter tuning,\n",
    "1. Then, selecting the most appropriate hyperparameters, the model is trained,\n",
    "   & profiled, and debugged.\n",
    "1. Once the training is complete the model is deployed to an endpoint, and\n",
    "   queried.\n",
    "1. _and in the end, all AWS resources are released_\n",
    "\n",
    "<!-- **Note:** This notebook has a bunch of code and markdown cells with TODOs that you have to complete. These are meant to be helpful guidelines for you to finish your project while meeting the requirements in the project rubrics. Feel free to change the order of these the TODO's and use more than one TODO code cell to do all your tasks. -->\n"
   ]
  },
  {
   "cell_type": "code",
   "execution_count": null,
   "metadata": {
    "scrolled": true
   },
   "outputs": [],
   "source": [
    "# DONE: TODO: Install any packages that you might need\n",
    "# For instance, you will need the smdebug package\n",
    "!pip install -U pip > /dev/null 2> /dev/null\n",
    "!pip install -U boto3 sagemaker smdebug > /dev/null\n"
   ]
  },
  {
   "cell_type": "code",
   "execution_count": null,
   "metadata": {},
   "outputs": [],
   "source": [
    "# DONE: TODO: Import any packages that you might need\n",
    "# For instance you will need Boto3 and Sagemaker\n",
    "import os\n",
    "import random\n",
    "from pathlib import Path\n",
    "\n",
    "import boto3\n",
    "import IPython\n",
    "import matplotlib.pyplot as plt\n",
    "import sagemaker\n",
    "from PIL import Image\n",
    "from sagemaker.debugger import (\n",
    "    DebuggerHookConfig,\n",
    "    FrameworkProfile,\n",
    "    ProfilerConfig,\n",
    "    ProfilerRule,\n",
    "    Rule,\n",
    "    rule_configs,\n",
    ")\n",
    "from sagemaker.pytorch import PyTorch\n",
    "from sagemaker.tuner import (\n",
    "    CategoricalParameter,\n",
    "    ContinuousParameter,\n",
    "    HyperparameterTuner,\n",
    "    IntegerParameter,\n",
    ")\n",
    "from smdebug.core.modes import ModeKeys\n",
    "from smdebug.trials import create_trial\n",
    "from torchvision import transforms\n"
   ]
  },
  {
   "cell_type": "code",
   "execution_count": null,
   "metadata": {},
   "outputs": [],
   "source": [
    "random.seed(42)\n",
    "plt.style.use(\"ggplot\")\n",
    "plt.rcParams[\"figure.figsize\"] = (16, 9)\n",
    "instance_type_train = \"ml.m5.large\"\n",
    "instance_type_deploy = \"ml.m3.medium\"\n",
    "role = sagemaker.get_execution_role()\n"
   ]
  },
  {
   "attachments": {},
   "cell_type": "markdown",
   "metadata": {},
   "source": [
    "## Dataset\n",
    "\n",
    "<!-- TODO: Explain what dataset you are using for this project. Maybe even give a small overview of the classes, class distributions etc that can help anyone not familiar with the dataset get a better understand of it. -->\n",
    "\n",
    "The dataset consists of images of several dog breeds, split into train, test, &\n",
    "validation.\n"
   ]
  },
  {
   "cell_type": "code",
   "execution_count": null,
   "metadata": {},
   "outputs": [],
   "source": [
    "#TODO: Fetch and upload the data to AWS S3\n",
    "\n",
    "# Command to download and unzip data\n",
    "!wget -O dogImages.zip https://s3-us-west-1.amazonaws.com/udacity-aind/dog-project/dogImages.zip >/dev/null\n",
    "!unzip  dogImages.zip > /dev/null\n"
   ]
  },
  {
   "cell_type": "code",
   "execution_count": null,
   "metadata": {},
   "outputs": [],
   "source": [
    "session = sagemaker.Session()\n",
    "bucket = session.default_bucket()\n",
    "prefix = \"dogImages\"\n",
    "inputs_train = session.upload_data(\n",
    "    path=\"./dogImages/train\",\n",
    "    bucket=bucket,\n",
    "    key_prefix=os.path.join(prefix, \"train\"),\n",
    ")\n",
    "inputs_test = session.upload_data(\n",
    "    path=\"./dogImages/test\",\n",
    "    bucket=bucket,\n",
    "    key_prefix=os.path.join(prefix, \"test\"),\n",
    ")\n",
    "inputs_valid = session.upload_data(\n",
    "    path=\"./dogImages/valid\",\n",
    "    bucket=bucket,\n",
    "    key_prefix=os.path.join(prefix, \"test\"),\n",
    ")\n"
   ]
  },
  {
   "attachments": {},
   "cell_type": "markdown",
   "metadata": {},
   "source": [
    "## Hyperparameter Tuning\n",
    "\n",
    "<!-- **TODO:** This is the part where you will finetune a pretrained model with hyperparameter tuning. Remember that you have to tune a minimum of two hyperparameters. However you are encouraged to tune more. You are also encouraged to explain why you chose to tune those particular hyperparameters and the ranges. -->\n",
    "\n",
    "<!-- **Note:** You will need to use the `hpo.py` script to perform hyperparameter tuning. -->\n"
   ]
  },
  {
   "cell_type": "code",
   "execution_count": null,
   "metadata": {},
   "outputs": [],
   "source": [
    "# DONE: TODO: Declare your HP ranges, metrics etc.\n",
    "hp_ranges = {\n",
    "    \"epochs\": IntegerParameter(2, 16),\n",
    "    \"batch-size\": CategoricalParameter([32, 64, 128]),\n",
    "    \"lr\": ContinuousParameter(0.001, 0.1),\n",
    "    \"beta1\": ContinuousParameter(0.03, 0.9),\n",
    "    \"beta2\": ContinuousParameter(0.03, 0.999),\n",
    "}\n"
   ]
  },
  {
   "cell_type": "code",
   "execution_count": null,
   "metadata": {},
   "outputs": [],
   "source": [
    "objective_metric_name = \"mean loss\"\n",
    "objective_type = \"Minimize\"\n",
    "metric_definitions = [\n",
    "    {\n",
    "        \"Name\": \"mean loss\",\n",
    "        \"Regex\": r\"(?i)(?<=^average\\s+loss:\\s+)[\\d\\.]+\",\n",
    "        # \"Regex\": r\"Average loss: ([0-9\\.]+)\",\n",
    "    }\n",
    "]\n"
   ]
  },
  {
   "cell_type": "code",
   "execution_count": null,
   "metadata": {},
   "outputs": [],
   "source": [
    "# DONE: TODO: Create estimators for your HPs\n",
    "estimator = PyTorch(\n",
    "    entry_point=\"hpo.py\",\n",
    "    role=role,\n",
    "    py_version=\"py38\",\n",
    "    framework_version=\"1.13.1\",\n",
    "    instance_count=1,\n",
    "    instance_type=instance_type_train,\n",
    ")  # DONE: TODO: Your estimator here\n",
    "\n",
    "tuner = HyperparameterTuner(\n",
    "    estimator,\n",
    "    objective_metric_name,\n",
    "    hp_ranges,\n",
    "    metric_definitions,\n",
    "    max_jobs=2,\n",
    "    max_parallel_jobs=2,\n",
    "    objective_type=objective_type,\n",
    ")  # DONE: TODO: Your HP tuner here\n"
   ]
  },
  {
   "cell_type": "code",
   "execution_count": null,
   "metadata": {},
   "outputs": [],
   "source": [
    "# TODO: Fit your HP Tuner\n",
    "_ = tuner.fit(\n",
    "    {\"training\": inputs_train, \"validation\": inputs_valid},\n",
    ")  # TODO: Remember to include your data channels\n"
   ]
  },
  {
   "cell_type": "code",
   "execution_count": null,
   "metadata": {},
   "outputs": [],
   "source": [
    "# TODO: Get the best estimators and the best HPs\n",
    "\n",
    "best_estimator = tuner.best_estimator()  # TODO\n",
    "\n",
    "# Get the hyperparameters of the best trained model\n",
    "hyperparameters = best_estimator.hyperparameters()\n",
    "hyperparameters\n"
   ]
  },
  {
   "attachments": {},
   "cell_type": "markdown",
   "metadata": {},
   "source": [
    "## Model Profiling and Debugging\n",
    "\n",
    "<!-- TODO: Using the best hyperparameters, create and finetune a new model -->\n",
    "\n",
    "<!-- **Note:** You will need to use the `train_model.py` script to perform model profiling and debugging. -->\n"
   ]
  },
  {
   "cell_type": "code",
   "execution_count": null,
   "metadata": {},
   "outputs": [],
   "source": [
    "# DONE: TODO: Set up debugging and profiling rules and hooks\n",
    "rules = [\n",
    "    Rule.sagemaker(rule_configs.vanishing_gradient()),\n",
    "    Rule.sagemaker(rule_configs.overfit()),\n",
    "    Rule.sagemaker(rule_configs.overtraining()),\n",
    "    Rule.sagemaker(rule_configs.poor_weight_initialization()),\n",
    "    Rule.sagemaker(rule_configs.loss_not_decreasing()),\n",
    "    ProfilerRule.sagemaker(rule_configs.ProfilerReport()),\n",
    "    ProfilerRule.sagemaker(rule_configs.LowGPUUtilization()),\n",
    "]\n"
   ]
  },
  {
   "cell_type": "code",
   "execution_count": null,
   "metadata": {},
   "outputs": [],
   "source": [
    "hook_config = DebuggerHookConfig(\n",
    "    hook_parameters={\"train.save_interval\": \"100\", \"eval.save_interval\": \"10\"}\n",
    ")\n",
    "profiler_config = ProfilerConfig(\n",
    "    system_monitor_interval_millis=500,\n",
    "    framework_profile_params=FrameworkProfile(num_steps=10),\n",
    ")\n"
   ]
  },
  {
   "cell_type": "code",
   "execution_count": null,
   "metadata": {},
   "outputs": [],
   "source": [
    "# TODO: Create and fit an estimator\n",
    "\n",
    "estimator = PyTorch(\n",
    "    role=role,\n",
    "    instance_count=1,\n",
    "    instance_type=instance_type_train,\n",
    "    entry_point=\"train_model.py\",\n",
    "    framework_version=\"1.13.1\",\n",
    "    py_version=\"py38\",\n",
    "    hyperparameters=hyperparameters,\n",
    "    profiler_config=profiler_config,\n",
    "    rules=rules,\n",
    "    debugger_hook_config=hook_config,\n",
    ")  # DONE: TODO: Your estimator here\n"
   ]
  },
  {
   "cell_type": "code",
   "execution_count": null,
   "metadata": {},
   "outputs": [],
   "source": [
    "_ = estimator.fit(\n",
    "    {\n",
    "        \"training\": inputs_train,\n",
    "        \"validation\": inputs_valid,\n",
    "        \"testing\": inputs_test,\n",
    "    },\n",
    ")\n"
   ]
  },
  {
   "cell_type": "code",
   "execution_count": null,
   "metadata": {},
   "outputs": [],
   "source": [
    "# TODO: Plot a debugging output.\n",
    "trial = create_trial(estimator.latest_job_debugger_artifacts_path())\n",
    "tensor_name = random.choice(trial.tensor_names())\n"
   ]
  },
  {
   "cell_type": "code",
   "execution_count": null,
   "metadata": {},
   "outputs": [],
   "source": [
    "def get_data(trial, tensor_name, mode):\n",
    "    tensor = trial.tensor(tensor_name)\n",
    "    steps = tensor.steps(mode=mode)\n",
    "    vals = [tensor.value(step, mode=mode) for step in steps]\n",
    "    return steps, vals\n"
   ]
  },
  {
   "cell_type": "code",
   "execution_count": null,
   "metadata": {},
   "outputs": [],
   "source": [
    "steps_train, vals_train = get_data(trial, tensor_name, ModeKeys.TRAIN)\n",
    "steps_eval, vals_eval = get_data(trial, tensor_name, ModeKeys.EVAL)\n",
    "\n",
    "plt.plot(steps_train, vals_train, label=tensor_name)\n",
    "plt.plot(steps_eval, vals_eval, label=f\"val_{tensor_name}\")\n",
    "plt.legend()\n",
    "plt.show()\n"
   ]
  },
  {
   "attachments": {},
   "cell_type": "markdown",
   "metadata": {},
   "source": [
    "<!-- **TODO**: Is there some anomalous behaviour in your debugging output? If so, what is the error and how will you fix it?  \n",
    "**TODO**: If not, suppose there was an error. What would that error look like and how would you have fixed it? -->\n"
   ]
  },
  {
   "cell_type": "code",
   "execution_count": null,
   "metadata": {},
   "outputs": [],
   "source": [
    "# TODO: Display the profiler output\n",
    "profiler_report_name = [\n",
    "    rule[\"RuleConfigurationName\"]\n",
    "    for rule in estimator.latest_training_job.rule_job_summary()\n",
    "    if \"Profiler\" in rule[\"RuleConfigurationName\"]\n",
    "][0]\n",
    "IPython.display.HTML(\n",
    "    filename=profiler_report_name + \"/profiler-output/profiler-report.html\"\n",
    ")\n"
   ]
  },
  {
   "attachments": {},
   "cell_type": "markdown",
   "metadata": {},
   "source": [
    "## Model Deploying\n"
   ]
  },
  {
   "cell_type": "code",
   "execution_count": null,
   "metadata": {},
   "outputs": [],
   "source": [
    "# TODO: Deploy your model to an endpoint\n",
    "\n",
    "predictor = estimator.deploy(\n",
    "    initial_instance_count=1,\n",
    "    instance_type=instance_type_deploy,\n",
    ")  # TODO: Add your deployment configuration like instance type and number of instances\n"
   ]
  },
  {
   "cell_type": "code",
   "execution_count": null,
   "metadata": {},
   "outputs": [],
   "source": [
    "# TODO: Run an prediction on the endpoint\n",
    "ROOT = Path(\".\").resolve()\n",
    "img_path = (\n",
    "    ROOT\n",
    "    / \"dogImages\"\n",
    "    / random.choice(os.listdir(ROOT / \"dogImages\" / \"valid\"))\n",
    ")\n",
    "transform = transforms.Compose(\n",
    "    [\n",
    "        transforms.Resize((224, 224)),\n",
    "        transforms.ToTensor(),\n",
    "        transforms.Normalize((0.5, 0.5, 0.5), (0.5, 0.5, 0.5)),\n",
    "    ]\n",
    ")\n",
    "\n",
    "image = transform(\n",
    "    Image.open(img_path)\n",
    ")  # TODO: Your code to load and preprocess image to send to endpoint for prediction\n",
    "response = predictor.predict(image)\n"
   ]
  },
  {
   "cell_type": "code",
   "execution_count": null,
   "metadata": {},
   "outputs": [],
   "source": [
    "# TODO: Remember to shutdown/delete your endpoint once your work is done\n",
    "predictor.delete_endpoint()\n"
   ]
  }
 ],
 "metadata": {
  "instance_type": "ml.g4dn.xlarge",
  "kernelspec": {
   "display_name": "Python 3 (Data Science)",
   "language": "python",
   "name": "python3__SAGEMAKER_INTERNAL__arn:aws:sagemaker:us-east-1:081325390199:image/datascience-1.0"
  },
  "language_info": {
   "codemirror_mode": {
    "name": "ipython",
    "version": 3
   },
   "file_extension": ".py",
   "mimetype": "text/x-python",
   "name": "python",
   "nbconvert_exporter": "python",
   "pygments_lexer": "ipython3",
   "version": "3.7.10"
  }
 },
 "nbformat": 4,
 "nbformat_minor": 4
}
